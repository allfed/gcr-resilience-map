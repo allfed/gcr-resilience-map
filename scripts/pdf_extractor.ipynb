{
 "cells": [
  {
   "cell_type": "markdown",
   "metadata": {},
   "source": [
    "# PDF Information Extractor using Anthropic's Claude\n",
    "\n",
    "This notebook allows you to extract information from PDF documents using Anthropic's Claude model."
   ]
  },
  {
   "cell_type": "code",
   "execution_count": null,
   "metadata": {},
   "source": [
    "import os\n",
    "from pathlib import Path\n",
    "import PyPDF2\n",
    "import anthropic\n",
    "import pandas as pd\n",
    "from tqdm import tqdm"
   ]
  },
  {
   "cell_type": "markdown",
   "metadata": {},
   "source": [
    "## Setup Anthropic Client"
   ]
  },
  {
   "cell_type": "code",
   "execution_count": null,
   "metadata": {},
   "source": [
    "# Get API key from environment variable\n",
    "api_key = os.getenv('ANTHROPIC_API_KEY')\n",
    "if not api_key:\n",
    "    raise ValueError(\"Please set ANTHROPIC_API_KEY environment variable\")\n",
    "\n",
    "# Initialize Anthropic client\n",
    "client = anthropic.Anthropic(api_key=api_key)"
   ]
  },
  {
   "cell_type": "markdown",
   "metadata": {},
   "source": [
    "## PDF Processing Functions"
   ]
  },
  {
   "cell_type": "code",
   "execution_count": null,
   "metadata": {},
   "source": [
    "def extract_text_from_pdf(pdf_path: str) -> str:\n",
    "    \"\"\"Extract text from a PDF file\"\"\"\n",
    "    with open(pdf_path, 'rb') as file:\n",
    "        reader = PyPDF2.PdfReader(file)\n",
    "        text = \"\"\n",
    "        for page in reader.pages:\n",
    "            text += page.extract_text() + \"\\n\"\n",
    "    return text\n",
    "\n",
    "def process_with_claude(text: str, query: str, temperature: float = 0.7, max_tokens: int = 1000) -> str:\n",
    "    \"\"\"Process text with Claude model\"\"\"\n",
    "    response = client.messages.create(\n",
    "        model=\"claude-3-sonnet-20240229\",\n",
    "        max_tokens=max_tokens,\n",
    "        temperature=temperature,\n",
    "        messages=[{\n",
    "            \"role\": \"user\",\n",
    "            \"content\": f\"Based on the following text, {query}\\n\\nText: {text}\"\n",
    "        }]\n",
    "    )\n",
    "    return response.content[0].text"
   ]
  },
  {
   "cell_type": "markdown",
   "metadata": {},
   "source": [
    "## Process PDFs"
   ]
  },
  {
   "cell_type": "code",
   "execution_count": null,
   "metadata": {},
   "source": [
    "# Configuration\n",
    "pdf_dir = \"pdfs\"  # Directory containing PDF files\n",
    "query = \"What are the main findings of this research?\"\n",
    "temperature = 0.7\n",
    "max_tokens = 1000\n",
    "output_csv = \"extraction_results.csv\"\n",
    "\n",
    "# Process PDFs\n",
    "results = []\n",
    "pdf_files = list(Path(pdf_dir).glob('*.pdf'))\n",
    "\n",
    "for pdf_path in tqdm(pdf_files, desc=\"Processing PDFs\"):\n",
    "    try:\n",
    "        text = extract_text_from_pdf(str(pdf_path))\n",
    "        response = process_with_claude(text, query, temperature, max_tokens)\n",
    "        \n",
    "        results.append({\n",
    "            'pdf_name': pdf_path.name,\n",
    "            'query': query,\n",
    "            'response': response\n",
    "        })\n",
    "    except Exception as e:\n",
    "        print(f\"Error processing {pdf_path.name}: {str(e)}\")\n",
    "\n",
    "# Save results to CSV\n",
    "df = pd.DataFrame(results)\n",
    "df.to_csv(output_csv, index=False)\n",
    "print(f\"Results saved to {output_csv}\")\n",
    "\n",
    "# Display results\n",
    "display(df)"
   ]
  },
  {
   "cell_type": "markdown",
   "metadata": {},
   "source": [
    "## Try Different Queries\n",
    "\n",
    "You can modify the query and parameters above to extract different types of information from your PDFs."
   ]
  }
 ],
 "metadata": {
  "kernelspec": {
   "display_name": "Python 3",
   "language": "python",
   "name": "python3"
  },
  "language_info": {
   "codemirror_mode": {
    "name": "ipython",
    "version": 3
   },
   "file_extension": ".py",
   "mimetype": "text/x-python",
   "name": "python",
   "nbconvert_exporter": "python",
   "pygments_lexer": "ipython3",
   "version": "3.8.0"
  }
 },
 "nbformat": 4,
 "nbformat_minor": 4
}